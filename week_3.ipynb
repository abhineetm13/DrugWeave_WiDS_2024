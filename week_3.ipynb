{
  "cells": [
    {
      "cell_type": "code",
      "execution_count": 31,
      "metadata": {
        "id": "0_5-SXjNSp8J"
      },
      "outputs": [],
      "source": [
        "import numpy as np\n",
        "import pandas as pd\n",
        "import matplotlib.pyplot as plt\n",
        "\n",
        "from sklearn.model_selection import train_test_split"
      ]
    },
    {
      "cell_type": "code",
      "source": [
        "!wget https://drive.google.com/file/d/1h8At-lChKzM8mPf0lDF1P9a3PzpociVg/view?usp=sharing"
      ],
      "metadata": {
        "colab": {
          "base_uri": "https://localhost:8080/"
        },
        "id": "h50WeinFUw1F",
        "outputId": "7ab96891-a6a9-4b4b-a26a-7ac5c68d753f"
      },
      "execution_count": 32,
      "outputs": [
        {
          "output_type": "stream",
          "name": "stdout",
          "text": [
            "--2025-02-16 06:38:17--  https://drive.google.com/file/d/1h8At-lChKzM8mPf0lDF1P9a3PzpociVg/view?usp=sharing\n",
            "Resolving drive.google.com (drive.google.com)... 64.233.170.139, 64.233.170.101, 64.233.170.100, ...\n",
            "Connecting to drive.google.com (drive.google.com)|64.233.170.139|:443... connected.\n",
            "HTTP request sent, awaiting response... 200 OK\n",
            "Length: unspecified [text/html]\n",
            "Saving to: ‘view?usp=sharing.1’\n",
            "\n",
            "view?usp=sharing.1      [ <=>                ]  93.09K  --.-KB/s    in 0.03s   \n",
            "\n",
            "2025-02-16 06:38:18 (3.09 MB/s) - ‘view?usp=sharing.1’ saved [95324]\n",
            "\n"
          ]
        }
      ]
    },
    {
      "cell_type": "code",
      "execution_count": 33,
      "metadata": {
        "colab": {
          "base_uri": "https://localhost:8080/",
          "height": 206
        },
        "id": "5LkBoriUSp8K",
        "outputId": "b4cfa6a3-8560-498c-900d-d275aa27a184"
      },
      "outputs": [
        {
          "output_type": "execute_result",
          "data": {
            "text/plain": [
              "    drug_id    protein_id                                             SMILES  \\\n",
              "0  11314340          AAK1  CC1=C2C=C(C=CC2=NN1)C3=CC(=CN=C3)OCC(CC4=CC=CC...   \n",
              "1  11314340   ABL1(E255K)  CC1=C2C=C(C=CC2=NN1)C3=CC(=CN=C3)OCC(CC4=CC=CC...   \n",
              "2  11314340   ABL1(F317I)  CC1=C2C=C(C=CC2=NN1)C3=CC(=CN=C3)OCC(CC4=CC=CC...   \n",
              "3  11314340  ABL1(F317I)p  CC1=C2C=C(C=CC2=NN1)C3=CC(=CN=C3)OCC(CC4=CC=CC...   \n",
              "4  11314340   ABL1(F317L)  CC1=C2C=C(C=CC2=NN1)C3=CC(=CN=C3)OCC(CC4=CC=CC...   \n",
              "\n",
              "                                             Protein       pKb  \n",
              "0  MKKFFDSRREQGGSGLGSGSSGGGGSTSGLGSGYIGRVFGIGRQQV...  7.366532  \n",
              "1  PFWKILNPLLERGTYYYFMGQQPGKVLGDQRRPSLPALHFIKGAGK...  5.000000  \n",
              "2  PFWKILNPLLERGTYYYFMGQQPGKVLGDQRRPSLPALHFIKGAGK...  5.000000  \n",
              "3  PFWKILNPLLERGTYYYFMGQQPGKVLGDQRRPSLPALHFIKGAGK...  5.000000  \n",
              "4  PFWKILNPLLERGTYYYFMGQQPGKVLGDQRRPSLPALHFIKGAGK...  5.000000  "
            ],
            "text/html": [
              "\n",
              "  <div id=\"df-69ee58df-91ed-4873-b2fa-b0f40fe6011f\" class=\"colab-df-container\">\n",
              "    <div>\n",
              "<style scoped>\n",
              "    .dataframe tbody tr th:only-of-type {\n",
              "        vertical-align: middle;\n",
              "    }\n",
              "\n",
              "    .dataframe tbody tr th {\n",
              "        vertical-align: top;\n",
              "    }\n",
              "\n",
              "    .dataframe thead th {\n",
              "        text-align: right;\n",
              "    }\n",
              "</style>\n",
              "<table border=\"1\" class=\"dataframe\">\n",
              "  <thead>\n",
              "    <tr style=\"text-align: right;\">\n",
              "      <th></th>\n",
              "      <th>drug_id</th>\n",
              "      <th>protein_id</th>\n",
              "      <th>SMILES</th>\n",
              "      <th>Protein</th>\n",
              "      <th>pKb</th>\n",
              "    </tr>\n",
              "  </thead>\n",
              "  <tbody>\n",
              "    <tr>\n",
              "      <th>0</th>\n",
              "      <td>11314340</td>\n",
              "      <td>AAK1</td>\n",
              "      <td>CC1=C2C=C(C=CC2=NN1)C3=CC(=CN=C3)OCC(CC4=CC=CC...</td>\n",
              "      <td>MKKFFDSRREQGGSGLGSGSSGGGGSTSGLGSGYIGRVFGIGRQQV...</td>\n",
              "      <td>7.366532</td>\n",
              "    </tr>\n",
              "    <tr>\n",
              "      <th>1</th>\n",
              "      <td>11314340</td>\n",
              "      <td>ABL1(E255K)</td>\n",
              "      <td>CC1=C2C=C(C=CC2=NN1)C3=CC(=CN=C3)OCC(CC4=CC=CC...</td>\n",
              "      <td>PFWKILNPLLERGTYYYFMGQQPGKVLGDQRRPSLPALHFIKGAGK...</td>\n",
              "      <td>5.000000</td>\n",
              "    </tr>\n",
              "    <tr>\n",
              "      <th>2</th>\n",
              "      <td>11314340</td>\n",
              "      <td>ABL1(F317I)</td>\n",
              "      <td>CC1=C2C=C(C=CC2=NN1)C3=CC(=CN=C3)OCC(CC4=CC=CC...</td>\n",
              "      <td>PFWKILNPLLERGTYYYFMGQQPGKVLGDQRRPSLPALHFIKGAGK...</td>\n",
              "      <td>5.000000</td>\n",
              "    </tr>\n",
              "    <tr>\n",
              "      <th>3</th>\n",
              "      <td>11314340</td>\n",
              "      <td>ABL1(F317I)p</td>\n",
              "      <td>CC1=C2C=C(C=CC2=NN1)C3=CC(=CN=C3)OCC(CC4=CC=CC...</td>\n",
              "      <td>PFWKILNPLLERGTYYYFMGQQPGKVLGDQRRPSLPALHFIKGAGK...</td>\n",
              "      <td>5.000000</td>\n",
              "    </tr>\n",
              "    <tr>\n",
              "      <th>4</th>\n",
              "      <td>11314340</td>\n",
              "      <td>ABL1(F317L)</td>\n",
              "      <td>CC1=C2C=C(C=CC2=NN1)C3=CC(=CN=C3)OCC(CC4=CC=CC...</td>\n",
              "      <td>PFWKILNPLLERGTYYYFMGQQPGKVLGDQRRPSLPALHFIKGAGK...</td>\n",
              "      <td>5.000000</td>\n",
              "    </tr>\n",
              "  </tbody>\n",
              "</table>\n",
              "</div>\n",
              "    <div class=\"colab-df-buttons\">\n",
              "\n",
              "  <div class=\"colab-df-container\">\n",
              "    <button class=\"colab-df-convert\" onclick=\"convertToInteractive('df-69ee58df-91ed-4873-b2fa-b0f40fe6011f')\"\n",
              "            title=\"Convert this dataframe to an interactive table.\"\n",
              "            style=\"display:none;\">\n",
              "\n",
              "  <svg xmlns=\"http://www.w3.org/2000/svg\" height=\"24px\" viewBox=\"0 -960 960 960\">\n",
              "    <path d=\"M120-120v-720h720v720H120Zm60-500h600v-160H180v160Zm220 220h160v-160H400v160Zm0 220h160v-160H400v160ZM180-400h160v-160H180v160Zm440 0h160v-160H620v160ZM180-180h160v-160H180v160Zm440 0h160v-160H620v160Z\"/>\n",
              "  </svg>\n",
              "    </button>\n",
              "\n",
              "  <style>\n",
              "    .colab-df-container {\n",
              "      display:flex;\n",
              "      gap: 12px;\n",
              "    }\n",
              "\n",
              "    .colab-df-convert {\n",
              "      background-color: #E8F0FE;\n",
              "      border: none;\n",
              "      border-radius: 50%;\n",
              "      cursor: pointer;\n",
              "      display: none;\n",
              "      fill: #1967D2;\n",
              "      height: 32px;\n",
              "      padding: 0 0 0 0;\n",
              "      width: 32px;\n",
              "    }\n",
              "\n",
              "    .colab-df-convert:hover {\n",
              "      background-color: #E2EBFA;\n",
              "      box-shadow: 0px 1px 2px rgba(60, 64, 67, 0.3), 0px 1px 3px 1px rgba(60, 64, 67, 0.15);\n",
              "      fill: #174EA6;\n",
              "    }\n",
              "\n",
              "    .colab-df-buttons div {\n",
              "      margin-bottom: 4px;\n",
              "    }\n",
              "\n",
              "    [theme=dark] .colab-df-convert {\n",
              "      background-color: #3B4455;\n",
              "      fill: #D2E3FC;\n",
              "    }\n",
              "\n",
              "    [theme=dark] .colab-df-convert:hover {\n",
              "      background-color: #434B5C;\n",
              "      box-shadow: 0px 1px 3px 1px rgba(0, 0, 0, 0.15);\n",
              "      filter: drop-shadow(0px 1px 2px rgba(0, 0, 0, 0.3));\n",
              "      fill: #FFFFFF;\n",
              "    }\n",
              "  </style>\n",
              "\n",
              "    <script>\n",
              "      const buttonEl =\n",
              "        document.querySelector('#df-69ee58df-91ed-4873-b2fa-b0f40fe6011f button.colab-df-convert');\n",
              "      buttonEl.style.display =\n",
              "        google.colab.kernel.accessAllowed ? 'block' : 'none';\n",
              "\n",
              "      async function convertToInteractive(key) {\n",
              "        const element = document.querySelector('#df-69ee58df-91ed-4873-b2fa-b0f40fe6011f');\n",
              "        const dataTable =\n",
              "          await google.colab.kernel.invokeFunction('convertToInteractive',\n",
              "                                                    [key], {});\n",
              "        if (!dataTable) return;\n",
              "\n",
              "        const docLinkHtml = 'Like what you see? Visit the ' +\n",
              "          '<a target=\"_blank\" href=https://colab.research.google.com/notebooks/data_table.ipynb>data table notebook</a>'\n",
              "          + ' to learn more about interactive tables.';\n",
              "        element.innerHTML = '';\n",
              "        dataTable['output_type'] = 'display_data';\n",
              "        await google.colab.output.renderOutput(dataTable, element);\n",
              "        const docLink = document.createElement('div');\n",
              "        docLink.innerHTML = docLinkHtml;\n",
              "        element.appendChild(docLink);\n",
              "      }\n",
              "    </script>\n",
              "  </div>\n",
              "\n",
              "\n",
              "<div id=\"df-3334ab76-5179-4929-b155-13b41c258d4b\">\n",
              "  <button class=\"colab-df-quickchart\" onclick=\"quickchart('df-3334ab76-5179-4929-b155-13b41c258d4b')\"\n",
              "            title=\"Suggest charts\"\n",
              "            style=\"display:none;\">\n",
              "\n",
              "<svg xmlns=\"http://www.w3.org/2000/svg\" height=\"24px\"viewBox=\"0 0 24 24\"\n",
              "     width=\"24px\">\n",
              "    <g>\n",
              "        <path d=\"M19 3H5c-1.1 0-2 .9-2 2v14c0 1.1.9 2 2 2h14c1.1 0 2-.9 2-2V5c0-1.1-.9-2-2-2zM9 17H7v-7h2v7zm4 0h-2V7h2v10zm4 0h-2v-4h2v4z\"/>\n",
              "    </g>\n",
              "</svg>\n",
              "  </button>\n",
              "\n",
              "<style>\n",
              "  .colab-df-quickchart {\n",
              "      --bg-color: #E8F0FE;\n",
              "      --fill-color: #1967D2;\n",
              "      --hover-bg-color: #E2EBFA;\n",
              "      --hover-fill-color: #174EA6;\n",
              "      --disabled-fill-color: #AAA;\n",
              "      --disabled-bg-color: #DDD;\n",
              "  }\n",
              "\n",
              "  [theme=dark] .colab-df-quickchart {\n",
              "      --bg-color: #3B4455;\n",
              "      --fill-color: #D2E3FC;\n",
              "      --hover-bg-color: #434B5C;\n",
              "      --hover-fill-color: #FFFFFF;\n",
              "      --disabled-bg-color: #3B4455;\n",
              "      --disabled-fill-color: #666;\n",
              "  }\n",
              "\n",
              "  .colab-df-quickchart {\n",
              "    background-color: var(--bg-color);\n",
              "    border: none;\n",
              "    border-radius: 50%;\n",
              "    cursor: pointer;\n",
              "    display: none;\n",
              "    fill: var(--fill-color);\n",
              "    height: 32px;\n",
              "    padding: 0;\n",
              "    width: 32px;\n",
              "  }\n",
              "\n",
              "  .colab-df-quickchart:hover {\n",
              "    background-color: var(--hover-bg-color);\n",
              "    box-shadow: 0 1px 2px rgba(60, 64, 67, 0.3), 0 1px 3px 1px rgba(60, 64, 67, 0.15);\n",
              "    fill: var(--button-hover-fill-color);\n",
              "  }\n",
              "\n",
              "  .colab-df-quickchart-complete:disabled,\n",
              "  .colab-df-quickchart-complete:disabled:hover {\n",
              "    background-color: var(--disabled-bg-color);\n",
              "    fill: var(--disabled-fill-color);\n",
              "    box-shadow: none;\n",
              "  }\n",
              "\n",
              "  .colab-df-spinner {\n",
              "    border: 2px solid var(--fill-color);\n",
              "    border-color: transparent;\n",
              "    border-bottom-color: var(--fill-color);\n",
              "    animation:\n",
              "      spin 1s steps(1) infinite;\n",
              "  }\n",
              "\n",
              "  @keyframes spin {\n",
              "    0% {\n",
              "      border-color: transparent;\n",
              "      border-bottom-color: var(--fill-color);\n",
              "      border-left-color: var(--fill-color);\n",
              "    }\n",
              "    20% {\n",
              "      border-color: transparent;\n",
              "      border-left-color: var(--fill-color);\n",
              "      border-top-color: var(--fill-color);\n",
              "    }\n",
              "    30% {\n",
              "      border-color: transparent;\n",
              "      border-left-color: var(--fill-color);\n",
              "      border-top-color: var(--fill-color);\n",
              "      border-right-color: var(--fill-color);\n",
              "    }\n",
              "    40% {\n",
              "      border-color: transparent;\n",
              "      border-right-color: var(--fill-color);\n",
              "      border-top-color: var(--fill-color);\n",
              "    }\n",
              "    60% {\n",
              "      border-color: transparent;\n",
              "      border-right-color: var(--fill-color);\n",
              "    }\n",
              "    80% {\n",
              "      border-color: transparent;\n",
              "      border-right-color: var(--fill-color);\n",
              "      border-bottom-color: var(--fill-color);\n",
              "    }\n",
              "    90% {\n",
              "      border-color: transparent;\n",
              "      border-bottom-color: var(--fill-color);\n",
              "    }\n",
              "  }\n",
              "</style>\n",
              "\n",
              "  <script>\n",
              "    async function quickchart(key) {\n",
              "      const quickchartButtonEl =\n",
              "        document.querySelector('#' + key + ' button');\n",
              "      quickchartButtonEl.disabled = true;  // To prevent multiple clicks.\n",
              "      quickchartButtonEl.classList.add('colab-df-spinner');\n",
              "      try {\n",
              "        const charts = await google.colab.kernel.invokeFunction(\n",
              "            'suggestCharts', [key], {});\n",
              "      } catch (error) {\n",
              "        console.error('Error during call to suggestCharts:', error);\n",
              "      }\n",
              "      quickchartButtonEl.classList.remove('colab-df-spinner');\n",
              "      quickchartButtonEl.classList.add('colab-df-quickchart-complete');\n",
              "    }\n",
              "    (() => {\n",
              "      let quickchartButtonEl =\n",
              "        document.querySelector('#df-3334ab76-5179-4929-b155-13b41c258d4b button');\n",
              "      quickchartButtonEl.style.display =\n",
              "        google.colab.kernel.accessAllowed ? 'block' : 'none';\n",
              "    })();\n",
              "  </script>\n",
              "</div>\n",
              "\n",
              "    </div>\n",
              "  </div>\n"
            ],
            "application/vnd.google.colaboratory.intrinsic+json": {
              "type": "dataframe",
              "variable_name": "data",
              "summary": "{\n  \"name\": \"data\",\n  \"rows\": 30056,\n  \"fields\": [\n    {\n      \"column\": \"drug_id\",\n      \"properties\": {\n        \"dtype\": \"number\",\n        \"std\": 10204518,\n        \"min\": 5291,\n        \"max\": 51004351,\n        \"num_unique_values\": 68,\n        \"samples\": [\n          17755052,\n          11626560,\n          10184653\n        ],\n        \"semantic_type\": \"\",\n        \"description\": \"\"\n      }\n    },\n    {\n      \"column\": \"protein_id\",\n      \"properties\": {\n        \"dtype\": \"category\",\n        \"num_unique_values\": 442,\n        \"samples\": [\n          \"p38-gamma\",\n          \"LIMK1\",\n          \"CDK9\"\n        ],\n        \"semantic_type\": \"\",\n        \"description\": \"\"\n      }\n    },\n    {\n      \"column\": \"SMILES\",\n      \"properties\": {\n        \"dtype\": \"category\",\n        \"num_unique_values\": 68,\n        \"samples\": [\n          \"CS(=O)(=O)N1CCN(CC1)CC2=CC3=C(S2)C(=NC(=N3)C4=C5C=NNC5=CC=C4)N6CCOCC6\",\n          \"CC(C1=C(C=CC(=C1Cl)F)Cl)OC2=C(N=CC(=C2)C3=CN(N=C3)C4CCNCC4)N\",\n          \"CN(C)CC=CC(=O)NC1=C(C=C2C(=C1)C(=NC=N2)NC3=CC(=C(C=C3)F)Cl)OC4CCOC4\"\n        ],\n        \"semantic_type\": \"\",\n        \"description\": \"\"\n      }\n    },\n    {\n      \"column\": \"Protein\",\n      \"properties\": {\n        \"dtype\": \"category\",\n        \"num_unique_values\": 379,\n        \"samples\": [\n          \"MPTQRDSSTMSHTVAGGGSGDHSHQVRVKAYYRGDIMITHFEPSISFEGLCNEVRDMCSFDNEQLFTMKWIDEEGDPCTVSSQLELEEAFRLYELNKDSELLIHVFPCVPERPGMPCPGEDKSIYRRGARRWRKLYCANGHTFQAKRFNRRAHCAICTDRIWGLGRQGYKCINCKLLVHKKCHKLVTIECGRHSLPQEPVMPMDQSSMHSDHAQTVIPYNPSSHESLDQVGEEKEAMNTRESGKASSSLGLQDFDLLRVIGRGSYAKVLLVRLKKTDRIYAMKVVKKELVNDDEDIDWVQTEKHVFEQASNHPFLVGLHSCFQTESRLFFVIEYVNGGDLMFHMQRQRKLPEEHARFYSAEISLALNYLHERGIIYRDLKLDNVLLDSEGHIKLTDYGMCKEGLRPGDTTSTFCGTPNYIAPEILRGEDYGFSVDWWALGVLMFEMMAGRSPFDIVGSSDNPDQNTEDYLFQVILEKQIRIPRSLSVKAASVLKSFLNKDPKERLGCHPQTGFADIQGHPFFRNVDWDMMEQKQVVPPFKPNISGEFGLDNFDSQFTNEPVQLTPDDDDIVRKIDQSEFEGFEYINPLLMSAEECV\",\n          \"MEPAAGFLSPRPFQRAAAAPAPPAGPGPPPSALRGPELEMLAGLPTSDPGRLITDPRSGRTYLKGRLLGKGGFARCYEATDTETGSAYAVKVIPQSRVAKPHQREKILNEIELHRDLQHRHIVRFSHHFEDADNIYIFLELCSRKSLAHIWKARHTLLEPEVRYYLRQILSGLKYLHQRGILHRDLKLGNFFITENMELKVGDFGLAARLEPPEQRKKTICGTPNYVAPEVLLRQGHGPEADVWSLGCVMYTLLCGSPPFETADLKETYRCIKQVHYTLPASLSLPARQLLAAILRASPRDRPSIDQILRHDFFTKGYTPDRLPISSCVTVPDLTPPNPARSLFAKVTKSLFGRKKKSKNHAQERDEVSGLVSGLMRTSVGHQDARPEAPAASGPAPVSLVETAPEDSSPRGTLASSGDGFEEGLTVATVVESALCALRNCIAFMPPAEQNPAPLAQPEPLVWVSKWVDYSNKFGFGYQLSSRRVAVLFNDGTHMALSANRKTVHYNPTSTKHFSFSVGAVPRALQPQLGILRYFASYMEQHLMKGGDLPSVEEVEVPAPPLLLQWVKTDQALLMLFSDGTVQVNFYGDHTKLILSGWEPLLVTFVARNRSACTYLASHLRQLGCSPDLRQRLRYALRLLRDRSPA\",\n          \"MGSNKSKPKDASQRRRSLEPAENVHGAGGGAFPASQTPSKPASADGHRGPSAAFAPAAAEPKLFGGFNSSDTVTSPQRAGPLAGGVTTFVALYDYESRTETDLSFKKGERLQIVNNTEGDWWLAHSLSTGQTGYIPSNYVAPSDSIQAEEWYFGKITRRESERLLLNAENPRGTFLVRESETTKGAYCLSVSDFDNAKGLNVKHYKIRKLDSGGFYITSRTQFNSLQQLVAYYSKHADGLCHRLTTVCPTSKPQTQGLAKDAWEIPRESLRLEVKLGQGCFGEVWMGTWNGTTRVAIKTLKPGTMSPEAFLQEAQVMKKLRHEKLVQLYAVVSEEPIYIVTEYMSKGSLLDFLKGETGKYLRLPQLVDMAAQIASGMAYVERMNYVHRDLRAANILVGENLVCKVADFGLARLIEDNEYTARQGAKFPIKWTAPEAALYGRFTIKSDVWSFGILLTELTTKGRVPYPGMVNREVLDQVERGYRMPCPPECPESLHDLMCQCWRKEPEERPTFEYLQAFLEDYFTSTEPQYQPGENL\"\n        ],\n        \"semantic_type\": \"\",\n        \"description\": \"\"\n      }\n    },\n    {\n      \"column\": \"pKb\",\n      \"properties\": {\n        \"dtype\": \"number\",\n        \"std\": 0.8947169124174926,\n        \"min\": 5.0,\n        \"max\": 10.795880017344077,\n        \"num_unique_values\": 456,\n        \"samples\": [\n          10.602059991327964,\n          5.920818753952375,\n          5.1249387366083\n        ],\n        \"semantic_type\": \"\",\n        \"description\": \"\"\n      }\n    }\n  ]\n}"
            }
          },
          "metadata": {},
          "execution_count": 33
        }
      ],
      "source": [
        "data = pd.read_csv('davis.txt', header = None, delimiter=' ')\n",
        "\n",
        "data.rename(columns={0: 'drug_id', 1: 'protein_id', 2: 'SMILES', 3: 'Protein', 4: 'pKb'}, inplace=True)\n",
        "data.head()"
      ]
    },
    {
      "cell_type": "code",
      "execution_count": 34,
      "metadata": {
        "id": "IkXqIioLSp8K"
      },
      "outputs": [],
      "source": [
        "max_smiles_length = 100\n",
        "size_vocab_smiles = 0\n",
        "max_protein_length = 1000\n",
        "size_vocab_protein = 0"
      ]
    },
    {
      "cell_type": "code",
      "source": [
        "!pip install rdkit"
      ],
      "metadata": {
        "colab": {
          "base_uri": "https://localhost:8080/"
        },
        "id": "IIbHl-ZHXs8r",
        "outputId": "b9ab4f68-28ec-45db-95b6-911aeeedf1cc"
      },
      "execution_count": 35,
      "outputs": [
        {
          "output_type": "stream",
          "name": "stdout",
          "text": [
            "Requirement already satisfied: rdkit in /usr/local/lib/python3.11/dist-packages (2024.9.5)\n",
            "Requirement already satisfied: numpy in /usr/local/lib/python3.11/dist-packages (from rdkit) (1.26.4)\n",
            "Requirement already satisfied: Pillow in /usr/local/lib/python3.11/dist-packages (from rdkit) (11.1.0)\n"
          ]
        }
      ]
    },
    {
      "cell_type": "code",
      "execution_count": 36,
      "metadata": {
        "id": "PSaiw_eGSp8L"
      },
      "outputs": [],
      "source": [
        "# encoding data\n",
        "\n",
        "from rdkit import Chem\n",
        "from rdkit.Chem import AllChem\n",
        "import numpy as np\n",
        "\n",
        "def tokenize_smiles(smiles):\n",
        "    \"\"\"Tokenize a SMILES string into individual characters.\"\"\"\n",
        "    tokens = []\n",
        "    for char in smiles:\n",
        "        tokens.append(char)\n",
        "    return tokens\n",
        "\n",
        "# Build vocabulary\n",
        "def build_vocab(smiles_list):\n",
        "    vocab = set()\n",
        "    for smiles in smiles_list:\n",
        "        vocab.update(tokenize_smiles(smiles))\n",
        "    vocab = {char: idx for idx, char in enumerate(sorted(vocab))}\n",
        "    vocab[\"[UNK]\"] = len(vocab)  # Add special [UNK] token\n",
        "    return vocab\n",
        "\n",
        "# Apply tokenization and mapping\n",
        "def smiles_to_indices(smiles, vocab, max_length):\n",
        "    tokenized = tokenize_smiles(smiles)\n",
        "    indices = [vocab.get(char, vocab[\"[UNK]\"]) for char in tokenized]  # Use [UNK] for unknown tokens\n",
        "    return indices[:max_length] + [0] * (max_length - len(indices))\n",
        "\n"
      ]
    },
    {
      "cell_type": "code",
      "execution_count": 37,
      "metadata": {
        "id": "LrRYm_wESp8L"
      },
      "outputs": [],
      "source": [
        "# Amino acids\n",
        "amino_acids = \"ACDEFGHIKLMNPQRSTVWY\"\n",
        "aa_vocab = {aa: idx + 1 for idx, aa in enumerate(amino_acids)}\n",
        "aa_vocab[\"[PAD]\"] = 0\n",
        "aa_vocab[\"X\"] = len(amino_acids) + 1\n",
        "\n",
        "size_vocab_protein = len(aa_vocab)\n",
        "\n",
        "def protein_to_indices(protein, vocab, max_length):\n",
        "    \"\"\"Convert protein sequence into indices.\"\"\"\n",
        "    indices = [vocab.get(aa, vocab[\"X\"]) for aa in protein]\n",
        "    return indices[:max_length] + [0] * (max_length - len(indices))\n"
      ]
    },
    {
      "cell_type": "code",
      "execution_count": 38,
      "metadata": {
        "id": "ysI60DFUSp8L"
      },
      "outputs": [],
      "source": [
        "# Split data such that each protein has a fixed ratio of entries in both training and testing split\n",
        "\n",
        "def split_by_protein(data):\n",
        "    # Group data by protein\n",
        "    grouped = data.groupby('protein_id')\n",
        "\n",
        "    train_indices = []\n",
        "    test_indices = []\n",
        "\n",
        "    # Split each group\n",
        "    for _, group in grouped:\n",
        "        train_idx, test_idx = train_test_split(group.index, test_size=0.3, random_state=42)\n",
        "        train_indices.extend(train_idx)\n",
        "        test_indices.extend(test_idx)\n",
        "\n",
        "    # Create train and test datasets\n",
        "    train_dataframe = data.iloc[train_indices, :]\n",
        "    # train_dataset = torch.utils.data.TensorDataset(X[train_indices], y[train_indices])\n",
        "    test_dataframe = data.iloc[test_indices, :]\n",
        "    # test_dataset = torch.utils.data.TensorDataset(X[test_indices], y[test_indices])\n",
        "    return train_dataframe, test_dataframe"
      ]
    },
    {
      "cell_type": "code",
      "source": [
        "# Split data that some proteins are entirely new in the testing split\n",
        "\n",
        "def split_new_proteins(data):\n",
        "    # Get unique protein IDs\n",
        "    unique_proteins = data['protein_id'].unique()\n",
        "\n",
        "    # Shuffle the protein IDs\n",
        "    np.random.shuffle(unique_proteins)\n",
        "\n",
        "    # Split the protein IDs into training and testing sets\n",
        "    train_proteins = unique_proteins[:int(0.9 * len(unique_proteins))]\n",
        "    test_proteins = unique_proteins[int(0.9 * len(unique_proteins)):]\n",
        "\n",
        "    # Get the indices for the training and testing sets\n",
        "    train_indices = data[data['protein_id'].isin(train_proteins)].index\n",
        "    test_indices = data[data['protein_id'].isin(test_proteins)].index\n",
        "\n",
        "    # Create train and test datasets\n",
        "    # train_datasframe = torch.utils.data.TensorDataset(X[train_indices], y[train_indices])\n",
        "    # test_dataset = torch.utils.data.TensorDataset(X[test_indices], y[test_indices])\n",
        "    train_dataframe = data.iloc[train_indices, :]\n",
        "    test_dataframe = data.iloc[test_indices, :]\n",
        "    return train_dataframe, test_dataframe"
      ],
      "metadata": {
        "id": "lVyy_40yaiEi"
      },
      "execution_count": 39,
      "outputs": []
    },
    {
      "cell_type": "code",
      "source": [
        "# Split data such that each drug has a fixed ratio of entries in both training and testing split\n",
        "\n",
        "def split_by_drug(data):\n",
        "    # Group data by drug\n",
        "    grouped = data.groupby('drug_id')\n",
        "\n",
        "    train_indices = []\n",
        "    test_indices = []\n",
        "\n",
        "    # Split each group\n",
        "    for _, group in grouped:\n",
        "        train_idx, test_idx = train_test_split(group.index, test_size=0.3, random_state=42)\n",
        "        train_indices.extend(train_idx)\n",
        "        test_indices.extend(test_idx)\n",
        "\n",
        "    # Create train and test datasets\n",
        "    # train_dataset = torch.utils.data.TensorDataset(X[train_indices], y[train_indices])\n",
        "    # test_dataset = torch.utils.data.TensorDataset(X[test_indices], y[test_indices])\n",
        "    train_dataframe = data.iloc[train_indices, :]\n",
        "    test_dataframe = data.iloc[test_indices, :]\n",
        "    return train_dataframe, test_dataframe"
      ],
      "metadata": {
        "id": "7JdiY91UaleB"
      },
      "execution_count": 40,
      "outputs": []
    },
    {
      "cell_type": "code",
      "source": [
        "# Split data that some drugs are entirely new in the testing split\n",
        "\n",
        "def split_new_drugs(data):\n",
        "    # Get unique drug IDs\n",
        "    unique_drugs = data['drug_id'].unique()\n",
        "\n",
        "    # Shuffle the drug IDs\n",
        "    np.random.shuffle(unique_drugs)\n",
        "\n",
        "    # Split the drug IDs into training and testing sets\n",
        "    train_drugs = unique_drugs[:int(0.9 * len(unique_drugs))]\n",
        "    test_drugs = unique_drugs[int(0.9 * len(unique_drugs)):]\n",
        "\n",
        "    # Get the indices for the training and testing sets\n",
        "    train_indices = data[data['drug_id'].isin(train_drugs)].index\n",
        "    test_indices = data[data['drug_id'].isin(test_drugs)].index\n",
        "\n",
        "    # Create train and test datasets\n",
        "    # train_dataset = torch.utils.data.TensorDataset(X[train_indices], y[train_indices])\n",
        "    # test_dataset = torch.utils.data.TensorDataset(X[test_indices], y[test_indices])\n",
        "    train_dataframe = data.iloc[train_indices, :]\n",
        "    test_dataframe = data.iloc[test_indices, :]\n",
        "    return train_dataframe, test_dataframe"
      ],
      "metadata": {
        "id": "U97P1ViCapw2"
      },
      "execution_count": 41,
      "outputs": []
    },
    {
      "cell_type": "code",
      "execution_count": 42,
      "metadata": {
        "id": "ti_xd6zTSp8L"
      },
      "outputs": [],
      "source": [
        "# temporary splitting\n",
        "\n",
        "# X_smiles_train, X_smiles_test, X_protein_train, X_protein_test, y_train, y_test = train_test_split(\n",
        "#     X_smiles, X_protein, y_pKb, test_size=0.2, random_state=42\n",
        "# )"
      ]
    },
    {
      "cell_type": "code",
      "source": [
        "data_train, data_test = split_new_drugs(data)\n",
        "\n",
        "# SMILES\n",
        "# train\n",
        "smiles_list_train = data_train['SMILES'].to_list()\n",
        "vocab = build_vocab(smiles_list_train)\n",
        "size_vocab_smiles = len(vocab)\n",
        "smiles_indices_train = [smiles_to_indices(sm, vocab, max_length=max_smiles_length) for sm in smiles_list_train]\n",
        "# test\n",
        "smiles_list_test = data_test['SMILES'].to_list()\n",
        "vocab = build_vocab(smiles_list_test)\n",
        "size_vocab_smiles = len(vocab)\n",
        "smiles_indices_test = [smiles_to_indices(sm, vocab, max_length=max_smiles_length) for sm in smiles_list_test]\n",
        "\n",
        "# Proteins\n",
        "proteins_list_train = data_train['Protein'].to_list()\n",
        "protein_indices_train = [protein_to_indices(protein_seq, aa_vocab, max_length=1000) for protein_seq in proteins_list_train]\n",
        "# test\n",
        "proteins_list_test = data_test['Protein'].to_list()\n",
        "protein_indices_test = [protein_to_indices(protein_seq, aa_vocab, max_length=1000) for protein_seq in proteins_list_test]\n"
      ],
      "metadata": {
        "id": "OwaXiubFbWFm"
      },
      "execution_count": 68,
      "outputs": []
    },
    {
      "cell_type": "code",
      "execution_count": 69,
      "metadata": {
        "id": "TCOiwH4WSp8L"
      },
      "outputs": [],
      "source": [
        "# Convert to model-ready arrays\n",
        "\n",
        "# train\n",
        "X_smiles_train = np.array(smiles_indices_train)\n",
        "X_protein_train = np.array(protein_indices_train)\n",
        "y_train = data_train[\"pKb\"].values\n",
        "\n",
        "# test\n",
        "X_smiles_test = np.array(smiles_indices_test)\n",
        "X_protein_test = np.array(protein_indices_test)\n",
        "y_test = data_test[\"pKb\"].values"
      ]
    },
    {
      "cell_type": "code",
      "execution_count": 70,
      "metadata": {
        "colab": {
          "base_uri": "https://localhost:8080/",
          "height": 513
        },
        "id": "6YWTz6PjSp8L",
        "outputId": "bf424100-1437-44b0-f0de-3476e958a038"
      },
      "outputs": [
        {
          "output_type": "display_data",
          "data": {
            "text/plain": [
              "\u001b[1mModel: \"functional_5\"\u001b[0m\n"
            ],
            "text/html": [
              "<pre style=\"white-space:pre;overflow-x:auto;line-height:normal;font-family:Menlo,'DejaVu Sans Mono',consolas,'Courier New',monospace\"><span style=\"font-weight: bold\">Model: \"functional_5\"</span>\n",
              "</pre>\n"
            ]
          },
          "metadata": {}
        },
        {
          "output_type": "display_data",
          "data": {
            "text/plain": [
              "┏━━━━━━━━━━━━━━━━━━━━━━━━━━━┳━━━━━━━━━━━━━━━━━━━━━━━━┳━━━━━━━━━━━━━━━━┳━━━━━━━━━━━━━━━━━━━━━━━━┓\n",
              "┃\u001b[1m \u001b[0m\u001b[1mLayer (type)             \u001b[0m\u001b[1m \u001b[0m┃\u001b[1m \u001b[0m\u001b[1mOutput Shape          \u001b[0m\u001b[1m \u001b[0m┃\u001b[1m \u001b[0m\u001b[1m       Param #\u001b[0m\u001b[1m \u001b[0m┃\u001b[1m \u001b[0m\u001b[1mConnected to          \u001b[0m\u001b[1m \u001b[0m┃\n",
              "┡━━━━━━━━━━━━━━━━━━━━━━━━━━━╇━━━━━━━━━━━━━━━━━━━━━━━━╇━━━━━━━━━━━━━━━━╇━━━━━━━━━━━━━━━━━━━━━━━━┩\n",
              "│ smiles_input (\u001b[38;5;33mInputLayer\u001b[0m) │ (\u001b[38;5;45mNone\u001b[0m, \u001b[38;5;34m100\u001b[0m)            │              \u001b[38;5;34m0\u001b[0m │ -                      │\n",
              "├───────────────────────────┼────────────────────────┼────────────────┼────────────────────────┤\n",
              "│ protein_input             │ (\u001b[38;5;45mNone\u001b[0m, \u001b[38;5;34m1000\u001b[0m)           │              \u001b[38;5;34m0\u001b[0m │ -                      │\n",
              "│ (\u001b[38;5;33mInputLayer\u001b[0m)              │                        │                │                        │\n",
              "├───────────────────────────┼────────────────────────┼────────────────┼────────────────────────┤\n",
              "│ embedding_10 (\u001b[38;5;33mEmbedding\u001b[0m)  │ (\u001b[38;5;45mNone\u001b[0m, \u001b[38;5;34m100\u001b[0m, \u001b[38;5;34m128\u001b[0m)       │          \u001b[38;5;34m2,432\u001b[0m │ smiles_input[\u001b[38;5;34m0\u001b[0m][\u001b[38;5;34m0\u001b[0m]     │\n",
              "├───────────────────────────┼────────────────────────┼────────────────┼────────────────────────┤\n",
              "│ embedding_11 (\u001b[38;5;33mEmbedding\u001b[0m)  │ (\u001b[38;5;45mNone\u001b[0m, \u001b[38;5;34m1000\u001b[0m, \u001b[38;5;34m128\u001b[0m)      │          \u001b[38;5;34m2,816\u001b[0m │ protein_input[\u001b[38;5;34m0\u001b[0m][\u001b[38;5;34m0\u001b[0m]    │\n",
              "├───────────────────────────┼────────────────────────┼────────────────┼────────────────────────┤\n",
              "│ lstm_10 (\u001b[38;5;33mLSTM\u001b[0m)            │ (\u001b[38;5;45mNone\u001b[0m, \u001b[38;5;34m256\u001b[0m)            │        \u001b[38;5;34m394,240\u001b[0m │ embedding_10[\u001b[38;5;34m0\u001b[0m][\u001b[38;5;34m0\u001b[0m]     │\n",
              "├───────────────────────────┼────────────────────────┼────────────────┼────────────────────────┤\n",
              "│ lstm_11 (\u001b[38;5;33mLSTM\u001b[0m)            │ (\u001b[38;5;45mNone\u001b[0m, \u001b[38;5;34m256\u001b[0m)            │        \u001b[38;5;34m394,240\u001b[0m │ embedding_11[\u001b[38;5;34m0\u001b[0m][\u001b[38;5;34m0\u001b[0m]     │\n",
              "├───────────────────────────┼────────────────────────┼────────────────┼────────────────────────┤\n",
              "│ concatenate_5             │ (\u001b[38;5;45mNone\u001b[0m, \u001b[38;5;34m512\u001b[0m)            │              \u001b[38;5;34m0\u001b[0m │ lstm_10[\u001b[38;5;34m0\u001b[0m][\u001b[38;5;34m0\u001b[0m],         │\n",
              "│ (\u001b[38;5;33mConcatenate\u001b[0m)             │                        │                │ lstm_11[\u001b[38;5;34m0\u001b[0m][\u001b[38;5;34m0\u001b[0m]          │\n",
              "├───────────────────────────┼────────────────────────┼────────────────┼────────────────────────┤\n",
              "│ dense_10 (\u001b[38;5;33mDense\u001b[0m)          │ (\u001b[38;5;45mNone\u001b[0m, \u001b[38;5;34m128\u001b[0m)            │         \u001b[38;5;34m65,664\u001b[0m │ concatenate_5[\u001b[38;5;34m0\u001b[0m][\u001b[38;5;34m0\u001b[0m]    │\n",
              "├───────────────────────────┼────────────────────────┼────────────────┼────────────────────────┤\n",
              "│ dropout_5 (\u001b[38;5;33mDropout\u001b[0m)       │ (\u001b[38;5;45mNone\u001b[0m, \u001b[38;5;34m128\u001b[0m)            │              \u001b[38;5;34m0\u001b[0m │ dense_10[\u001b[38;5;34m0\u001b[0m][\u001b[38;5;34m0\u001b[0m]         │\n",
              "├───────────────────────────┼────────────────────────┼────────────────┼────────────────────────┤\n",
              "│ dense_11 (\u001b[38;5;33mDense\u001b[0m)          │ (\u001b[38;5;45mNone\u001b[0m, \u001b[38;5;34m64\u001b[0m)             │          \u001b[38;5;34m8,256\u001b[0m │ dropout_5[\u001b[38;5;34m0\u001b[0m][\u001b[38;5;34m0\u001b[0m]        │\n",
              "├───────────────────────────┼────────────────────────┼────────────────┼────────────────────────┤\n",
              "│ pKb_output (\u001b[38;5;33mDense\u001b[0m)        │ (\u001b[38;5;45mNone\u001b[0m, \u001b[38;5;34m1\u001b[0m)              │             \u001b[38;5;34m65\u001b[0m │ dense_11[\u001b[38;5;34m0\u001b[0m][\u001b[38;5;34m0\u001b[0m]         │\n",
              "└───────────────────────────┴────────────────────────┴────────────────┴────────────────────────┘\n"
            ],
            "text/html": [
              "<pre style=\"white-space:pre;overflow-x:auto;line-height:normal;font-family:Menlo,'DejaVu Sans Mono',consolas,'Courier New',monospace\">┏━━━━━━━━━━━━━━━━━━━━━━━━━━━┳━━━━━━━━━━━━━━━━━━━━━━━━┳━━━━━━━━━━━━━━━━┳━━━━━━━━━━━━━━━━━━━━━━━━┓\n",
              "┃<span style=\"font-weight: bold\"> Layer (type)              </span>┃<span style=\"font-weight: bold\"> Output Shape           </span>┃<span style=\"font-weight: bold\">        Param # </span>┃<span style=\"font-weight: bold\"> Connected to           </span>┃\n",
              "┡━━━━━━━━━━━━━━━━━━━━━━━━━━━╇━━━━━━━━━━━━━━━━━━━━━━━━╇━━━━━━━━━━━━━━━━╇━━━━━━━━━━━━━━━━━━━━━━━━┩\n",
              "│ smiles_input (<span style=\"color: #0087ff; text-decoration-color: #0087ff\">InputLayer</span>) │ (<span style=\"color: #00d7ff; text-decoration-color: #00d7ff\">None</span>, <span style=\"color: #00af00; text-decoration-color: #00af00\">100</span>)            │              <span style=\"color: #00af00; text-decoration-color: #00af00\">0</span> │ -                      │\n",
              "├───────────────────────────┼────────────────────────┼────────────────┼────────────────────────┤\n",
              "│ protein_input             │ (<span style=\"color: #00d7ff; text-decoration-color: #00d7ff\">None</span>, <span style=\"color: #00af00; text-decoration-color: #00af00\">1000</span>)           │              <span style=\"color: #00af00; text-decoration-color: #00af00\">0</span> │ -                      │\n",
              "│ (<span style=\"color: #0087ff; text-decoration-color: #0087ff\">InputLayer</span>)              │                        │                │                        │\n",
              "├───────────────────────────┼────────────────────────┼────────────────┼────────────────────────┤\n",
              "│ embedding_10 (<span style=\"color: #0087ff; text-decoration-color: #0087ff\">Embedding</span>)  │ (<span style=\"color: #00d7ff; text-decoration-color: #00d7ff\">None</span>, <span style=\"color: #00af00; text-decoration-color: #00af00\">100</span>, <span style=\"color: #00af00; text-decoration-color: #00af00\">128</span>)       │          <span style=\"color: #00af00; text-decoration-color: #00af00\">2,432</span> │ smiles_input[<span style=\"color: #00af00; text-decoration-color: #00af00\">0</span>][<span style=\"color: #00af00; text-decoration-color: #00af00\">0</span>]     │\n",
              "├───────────────────────────┼────────────────────────┼────────────────┼────────────────────────┤\n",
              "│ embedding_11 (<span style=\"color: #0087ff; text-decoration-color: #0087ff\">Embedding</span>)  │ (<span style=\"color: #00d7ff; text-decoration-color: #00d7ff\">None</span>, <span style=\"color: #00af00; text-decoration-color: #00af00\">1000</span>, <span style=\"color: #00af00; text-decoration-color: #00af00\">128</span>)      │          <span style=\"color: #00af00; text-decoration-color: #00af00\">2,816</span> │ protein_input[<span style=\"color: #00af00; text-decoration-color: #00af00\">0</span>][<span style=\"color: #00af00; text-decoration-color: #00af00\">0</span>]    │\n",
              "├───────────────────────────┼────────────────────────┼────────────────┼────────────────────────┤\n",
              "│ lstm_10 (<span style=\"color: #0087ff; text-decoration-color: #0087ff\">LSTM</span>)            │ (<span style=\"color: #00d7ff; text-decoration-color: #00d7ff\">None</span>, <span style=\"color: #00af00; text-decoration-color: #00af00\">256</span>)            │        <span style=\"color: #00af00; text-decoration-color: #00af00\">394,240</span> │ embedding_10[<span style=\"color: #00af00; text-decoration-color: #00af00\">0</span>][<span style=\"color: #00af00; text-decoration-color: #00af00\">0</span>]     │\n",
              "├───────────────────────────┼────────────────────────┼────────────────┼────────────────────────┤\n",
              "│ lstm_11 (<span style=\"color: #0087ff; text-decoration-color: #0087ff\">LSTM</span>)            │ (<span style=\"color: #00d7ff; text-decoration-color: #00d7ff\">None</span>, <span style=\"color: #00af00; text-decoration-color: #00af00\">256</span>)            │        <span style=\"color: #00af00; text-decoration-color: #00af00\">394,240</span> │ embedding_11[<span style=\"color: #00af00; text-decoration-color: #00af00\">0</span>][<span style=\"color: #00af00; text-decoration-color: #00af00\">0</span>]     │\n",
              "├───────────────────────────┼────────────────────────┼────────────────┼────────────────────────┤\n",
              "│ concatenate_5             │ (<span style=\"color: #00d7ff; text-decoration-color: #00d7ff\">None</span>, <span style=\"color: #00af00; text-decoration-color: #00af00\">512</span>)            │              <span style=\"color: #00af00; text-decoration-color: #00af00\">0</span> │ lstm_10[<span style=\"color: #00af00; text-decoration-color: #00af00\">0</span>][<span style=\"color: #00af00; text-decoration-color: #00af00\">0</span>],         │\n",
              "│ (<span style=\"color: #0087ff; text-decoration-color: #0087ff\">Concatenate</span>)             │                        │                │ lstm_11[<span style=\"color: #00af00; text-decoration-color: #00af00\">0</span>][<span style=\"color: #00af00; text-decoration-color: #00af00\">0</span>]          │\n",
              "├───────────────────────────┼────────────────────────┼────────────────┼────────────────────────┤\n",
              "│ dense_10 (<span style=\"color: #0087ff; text-decoration-color: #0087ff\">Dense</span>)          │ (<span style=\"color: #00d7ff; text-decoration-color: #00d7ff\">None</span>, <span style=\"color: #00af00; text-decoration-color: #00af00\">128</span>)            │         <span style=\"color: #00af00; text-decoration-color: #00af00\">65,664</span> │ concatenate_5[<span style=\"color: #00af00; text-decoration-color: #00af00\">0</span>][<span style=\"color: #00af00; text-decoration-color: #00af00\">0</span>]    │\n",
              "├───────────────────────────┼────────────────────────┼────────────────┼────────────────────────┤\n",
              "│ dropout_5 (<span style=\"color: #0087ff; text-decoration-color: #0087ff\">Dropout</span>)       │ (<span style=\"color: #00d7ff; text-decoration-color: #00d7ff\">None</span>, <span style=\"color: #00af00; text-decoration-color: #00af00\">128</span>)            │              <span style=\"color: #00af00; text-decoration-color: #00af00\">0</span> │ dense_10[<span style=\"color: #00af00; text-decoration-color: #00af00\">0</span>][<span style=\"color: #00af00; text-decoration-color: #00af00\">0</span>]         │\n",
              "├───────────────────────────┼────────────────────────┼────────────────┼────────────────────────┤\n",
              "│ dense_11 (<span style=\"color: #0087ff; text-decoration-color: #0087ff\">Dense</span>)          │ (<span style=\"color: #00d7ff; text-decoration-color: #00d7ff\">None</span>, <span style=\"color: #00af00; text-decoration-color: #00af00\">64</span>)             │          <span style=\"color: #00af00; text-decoration-color: #00af00\">8,256</span> │ dropout_5[<span style=\"color: #00af00; text-decoration-color: #00af00\">0</span>][<span style=\"color: #00af00; text-decoration-color: #00af00\">0</span>]        │\n",
              "├───────────────────────────┼────────────────────────┼────────────────┼────────────────────────┤\n",
              "│ pKb_output (<span style=\"color: #0087ff; text-decoration-color: #0087ff\">Dense</span>)        │ (<span style=\"color: #00d7ff; text-decoration-color: #00d7ff\">None</span>, <span style=\"color: #00af00; text-decoration-color: #00af00\">1</span>)              │             <span style=\"color: #00af00; text-decoration-color: #00af00\">65</span> │ dense_11[<span style=\"color: #00af00; text-decoration-color: #00af00\">0</span>][<span style=\"color: #00af00; text-decoration-color: #00af00\">0</span>]         │\n",
              "└───────────────────────────┴────────────────────────┴────────────────┴────────────────────────┘\n",
              "</pre>\n"
            ]
          },
          "metadata": {}
        },
        {
          "output_type": "display_data",
          "data": {
            "text/plain": [
              "\u001b[1m Total params: \u001b[0m\u001b[38;5;34m867,713\u001b[0m (3.31 MB)\n"
            ],
            "text/html": [
              "<pre style=\"white-space:pre;overflow-x:auto;line-height:normal;font-family:Menlo,'DejaVu Sans Mono',consolas,'Courier New',monospace\"><span style=\"font-weight: bold\"> Total params: </span><span style=\"color: #00af00; text-decoration-color: #00af00\">867,713</span> (3.31 MB)\n",
              "</pre>\n"
            ]
          },
          "metadata": {}
        },
        {
          "output_type": "display_data",
          "data": {
            "text/plain": [
              "\u001b[1m Trainable params: \u001b[0m\u001b[38;5;34m867,713\u001b[0m (3.31 MB)\n"
            ],
            "text/html": [
              "<pre style=\"white-space:pre;overflow-x:auto;line-height:normal;font-family:Menlo,'DejaVu Sans Mono',consolas,'Courier New',monospace\"><span style=\"font-weight: bold\"> Trainable params: </span><span style=\"color: #00af00; text-decoration-color: #00af00\">867,713</span> (3.31 MB)\n",
              "</pre>\n"
            ]
          },
          "metadata": {}
        },
        {
          "output_type": "display_data",
          "data": {
            "text/plain": [
              "\u001b[1m Non-trainable params: \u001b[0m\u001b[38;5;34m0\u001b[0m (0.00 B)\n"
            ],
            "text/html": [
              "<pre style=\"white-space:pre;overflow-x:auto;line-height:normal;font-family:Menlo,'DejaVu Sans Mono',consolas,'Courier New',monospace\"><span style=\"font-weight: bold\"> Non-trainable params: </span><span style=\"color: #00af00; text-decoration-color: #00af00\">0</span> (0.00 B)\n",
              "</pre>\n"
            ]
          },
          "metadata": {}
        }
      ],
      "source": [
        "import tensorflow as tf\n",
        "from tensorflow.keras.models import Model\n",
        "from tensorflow.keras.layers import (\n",
        "    Input, Embedding, LSTM, Dense, Dropout, Concatenate\n",
        ")\n",
        "\n",
        "# SMILES Encoder\n",
        "smiles_input = Input(shape=(max_smiles_length,), name=\"smiles_input\")\n",
        "smiles_embedding = Embedding(input_dim=size_vocab_smiles, output_dim=128)(smiles_input)\n",
        "smiles_lstm = LSTM(units=256, return_sequences=False)(smiles_embedding)\n",
        "\n",
        "# Protein Sequence Encoder\n",
        "protein_input = Input(shape=(max_protein_length,), name=\"protein_input\")\n",
        "protein_embedding = Embedding(input_dim=size_vocab_protein, output_dim=128)(protein_input)\n",
        "protein_lstm = LSTM(units=256, return_sequences=False)(protein_embedding)\n",
        "\n",
        "# Combine Drug and Protein Representations\n",
        "combined = Concatenate()([smiles_lstm, protein_lstm])\n",
        "dense1 = Dense(128, activation=\"relu\")(combined)\n",
        "dropout1 = Dropout(0.3)(dense1)\n",
        "dense2 = Dense(64, activation=\"relu\")(dropout1)\n",
        "output = Dense(1, activation=\"linear\", name=\"pKb_output\")(dense2)\n",
        "\n",
        "# Build Model\n",
        "model = Model(inputs=[smiles_input, protein_input], outputs=output)\n",
        "model.compile(optimizer=\"adam\", loss=\"mse\", metrics=[\"mae\"])\n",
        "\n",
        "model.summary()\n"
      ]
    },
    {
      "cell_type": "code",
      "execution_count": 71,
      "metadata": {
        "colab": {
          "base_uri": "https://localhost:8080/"
        },
        "id": "WcsCymVaSp8M",
        "outputId": "cee9694a-c12d-4205-d3da-292e7487c40c"
      },
      "outputs": [
        {
          "output_type": "stream",
          "name": "stdout",
          "text": [
            "Epoch 1/20\n",
            "\u001b[1m759/759\u001b[0m \u001b[32m━━━━━━━━━━━━━━━━━━━━\u001b[0m\u001b[37m\u001b[0m \u001b[1m52s\u001b[0m 64ms/step - loss: 2.1368 - mae: 0.9577 - val_loss: 1.5369 - val_mae: 0.9381\n",
            "Epoch 2/20\n",
            "\u001b[1m759/759\u001b[0m \u001b[32m━━━━━━━━━━━━━━━━━━━━\u001b[0m\u001b[37m\u001b[0m \u001b[1m47s\u001b[0m 62ms/step - loss: 0.8824 - mae: 0.6641 - val_loss: 2.1723 - val_mae: 1.2317\n",
            "Epoch 3/20\n",
            "\u001b[1m759/759\u001b[0m \u001b[32m━━━━━━━━━━━━━━━━━━━━\u001b[0m\u001b[37m\u001b[0m \u001b[1m84s\u001b[0m 64ms/step - loss: 0.8503 - mae: 0.6465 - val_loss: 2.7880 - val_mae: 1.4598\n",
            "Epoch 4/20\n",
            "\u001b[1m759/759\u001b[0m \u001b[32m━━━━━━━━━━━━━━━━━━━━\u001b[0m\u001b[37m\u001b[0m \u001b[1m82s\u001b[0m 63ms/step - loss: 0.7893 - mae: 0.6253 - val_loss: 2.6242 - val_mae: 1.4041\n",
            "Epoch 5/20\n",
            "\u001b[1m759/759\u001b[0m \u001b[32m━━━━━━━━━━━━━━━━━━━━\u001b[0m\u001b[37m\u001b[0m \u001b[1m82s\u001b[0m 64ms/step - loss: 0.8163 - mae: 0.6341 - val_loss: 3.0991 - val_mae: 1.5646\n",
            "Epoch 6/20\n",
            "\u001b[1m759/759\u001b[0m \u001b[32m━━━━━━━━━━━━━━━━━━━━\u001b[0m\u001b[37m\u001b[0m \u001b[1m48s\u001b[0m 63ms/step - loss: 0.7808 - mae: 0.6245 - val_loss: 2.4567 - val_mae: 1.3471\n",
            "Epoch 7/20\n",
            "\u001b[1m759/759\u001b[0m \u001b[32m━━━━━━━━━━━━━━━━━━━━\u001b[0m\u001b[37m\u001b[0m \u001b[1m83s\u001b[0m 64ms/step - loss: 0.7699 - mae: 0.6179 - val_loss: 2.2314 - val_mae: 1.2658\n",
            "Epoch 8/20\n",
            "\u001b[1m759/759\u001b[0m \u001b[32m━━━━━━━━━━━━━━━━━━━━\u001b[0m\u001b[37m\u001b[0m \u001b[1m82s\u001b[0m 64ms/step - loss: 0.7499 - mae: 0.5977 - val_loss: 2.9925 - val_mae: 1.5422\n",
            "Epoch 9/20\n",
            "\u001b[1m759/759\u001b[0m \u001b[32m━━━━━━━━━━━━━━━━━━━━\u001b[0m\u001b[37m\u001b[0m \u001b[1m48s\u001b[0m 64ms/step - loss: 0.7057 - mae: 0.5677 - val_loss: 2.4919 - val_mae: 1.3919\n",
            "Epoch 10/20\n",
            "\u001b[1m759/759\u001b[0m \u001b[32m━━━━━━━━━━━━━━━━━━━━\u001b[0m\u001b[37m\u001b[0m \u001b[1m82s\u001b[0m 64ms/step - loss: 0.6620 - mae: 0.5440 - val_loss: 2.5534 - val_mae: 1.3989\n",
            "Epoch 11/20\n",
            "\u001b[1m759/759\u001b[0m \u001b[32m━━━━━━━━━━━━━━━━━━━━\u001b[0m\u001b[37m\u001b[0m \u001b[1m49s\u001b[0m 64ms/step - loss: 0.6482 - mae: 0.5360 - val_loss: 2.3209 - val_mae: 1.3138\n",
            "Epoch 12/20\n",
            "\u001b[1m759/759\u001b[0m \u001b[32m━━━━━━━━━━━━━━━━━━━━\u001b[0m\u001b[37m\u001b[0m \u001b[1m81s\u001b[0m 63ms/step - loss: 0.6457 - mae: 0.5309 - val_loss: 2.0784 - val_mae: 1.2071\n",
            "Epoch 13/20\n",
            "\u001b[1m759/759\u001b[0m \u001b[32m━━━━━━━━━━━━━━━━━━━━\u001b[0m\u001b[37m\u001b[0m \u001b[1m83s\u001b[0m 64ms/step - loss: 0.5986 - mae: 0.5047 - val_loss: 2.3854 - val_mae: 1.3331\n",
            "Epoch 14/20\n",
            "\u001b[1m759/759\u001b[0m \u001b[32m━━━━━━━━━━━━━━━━━━━━\u001b[0m\u001b[37m\u001b[0m \u001b[1m82s\u001b[0m 64ms/step - loss: 0.6133 - mae: 0.5047 - val_loss: 2.0518 - val_mae: 1.2076\n",
            "Epoch 15/20\n",
            "\u001b[1m759/759\u001b[0m \u001b[32m━━━━━━━━━━━━━━━━━━━━\u001b[0m\u001b[37m\u001b[0m \u001b[1m82s\u001b[0m 64ms/step - loss: 0.5989 - mae: 0.5019 - val_loss: 2.1051 - val_mae: 1.2389\n",
            "Epoch 16/20\n",
            "\u001b[1m759/759\u001b[0m \u001b[32m━━━━━━━━━━━━━━━━━━━━\u001b[0m\u001b[37m\u001b[0m \u001b[1m49s\u001b[0m 64ms/step - loss: 0.5597 - mae: 0.4847 - val_loss: 2.1598 - val_mae: 1.2558\n",
            "Epoch 17/20\n",
            "\u001b[1m759/759\u001b[0m \u001b[32m━━━━━━━━━━━━━━━━━━━━\u001b[0m\u001b[37m\u001b[0m \u001b[1m82s\u001b[0m 64ms/step - loss: 0.5517 - mae: 0.4798 - val_loss: 2.2429 - val_mae: 1.2854\n",
            "Epoch 18/20\n",
            "\u001b[1m759/759\u001b[0m \u001b[32m━━━━━━━━━━━━━━━━━━━━\u001b[0m\u001b[37m\u001b[0m \u001b[1m81s\u001b[0m 64ms/step - loss: 0.5553 - mae: 0.4817 - val_loss: 1.9870 - val_mae: 1.1907\n",
            "Epoch 19/20\n",
            "\u001b[1m759/759\u001b[0m \u001b[32m━━━━━━━━━━━━━━━━━━━━\u001b[0m\u001b[37m\u001b[0m \u001b[1m82s\u001b[0m 64ms/step - loss: 0.5596 - mae: 0.4826 - val_loss: 2.2901 - val_mae: 1.2976\n",
            "Epoch 20/20\n",
            "\u001b[1m759/759\u001b[0m \u001b[32m━━━━━━━━━━━━━━━━━━━━\u001b[0m\u001b[37m\u001b[0m \u001b[1m81s\u001b[0m 64ms/step - loss: 0.5367 - mae: 0.4731 - val_loss: 1.9055 - val_mae: 1.1547\n"
          ]
        }
      ],
      "source": [
        "# Batch size and number of epochs\n",
        "batch_size = 32\n",
        "epochs = 20\n",
        "\n",
        "# Train the model\n",
        "history = model.fit(\n",
        "    [X_smiles_train, X_protein_train],  # Inputs: SMILES and Protein sequences\n",
        "    y_train,                           # Labels\n",
        "    validation_split=0.1,              # Use 10% of training data for validation\n",
        "    batch_size=batch_size,\n",
        "    epochs=epochs,\n",
        "    verbose=1                         # Print training progress\n",
        ")"
      ]
    },
    {
      "cell_type": "code",
      "source": [
        "!pip install lifelines"
      ],
      "metadata": {
        "colab": {
          "base_uri": "https://localhost:8080/"
        },
        "id": "5QHaatIkfg6m",
        "outputId": "7d6d2c6a-61e7-49fc-8ffd-f316f7c2daac"
      },
      "execution_count": 72,
      "outputs": [
        {
          "output_type": "stream",
          "name": "stdout",
          "text": [
            "Requirement already satisfied: lifelines in /usr/local/lib/python3.11/dist-packages (0.30.0)\n",
            "Requirement already satisfied: numpy>=1.14.0 in /usr/local/lib/python3.11/dist-packages (from lifelines) (1.26.4)\n",
            "Requirement already satisfied: scipy>=1.7.0 in /usr/local/lib/python3.11/dist-packages (from lifelines) (1.13.1)\n",
            "Requirement already satisfied: pandas>=2.1 in /usr/local/lib/python3.11/dist-packages (from lifelines) (2.2.2)\n",
            "Requirement already satisfied: matplotlib>=3.0 in /usr/local/lib/python3.11/dist-packages (from lifelines) (3.10.0)\n",
            "Requirement already satisfied: autograd>=1.5 in /usr/local/lib/python3.11/dist-packages (from lifelines) (1.7.0)\n",
            "Requirement already satisfied: autograd-gamma>=0.3 in /usr/local/lib/python3.11/dist-packages (from lifelines) (0.5.0)\n",
            "Requirement already satisfied: formulaic>=0.2.2 in /usr/local/lib/python3.11/dist-packages (from lifelines) (1.1.1)\n",
            "Requirement already satisfied: interface-meta>=1.2.0 in /usr/local/lib/python3.11/dist-packages (from formulaic>=0.2.2->lifelines) (1.3.0)\n",
            "Requirement already satisfied: typing-extensions>=4.2.0 in /usr/local/lib/python3.11/dist-packages (from formulaic>=0.2.2->lifelines) (4.12.2)\n",
            "Requirement already satisfied: wrapt>=1.0 in /usr/local/lib/python3.11/dist-packages (from formulaic>=0.2.2->lifelines) (1.17.2)\n",
            "Requirement already satisfied: contourpy>=1.0.1 in /usr/local/lib/python3.11/dist-packages (from matplotlib>=3.0->lifelines) (1.3.1)\n",
            "Requirement already satisfied: cycler>=0.10 in /usr/local/lib/python3.11/dist-packages (from matplotlib>=3.0->lifelines) (0.12.1)\n",
            "Requirement already satisfied: fonttools>=4.22.0 in /usr/local/lib/python3.11/dist-packages (from matplotlib>=3.0->lifelines) (4.56.0)\n",
            "Requirement already satisfied: kiwisolver>=1.3.1 in /usr/local/lib/python3.11/dist-packages (from matplotlib>=3.0->lifelines) (1.4.8)\n",
            "Requirement already satisfied: packaging>=20.0 in /usr/local/lib/python3.11/dist-packages (from matplotlib>=3.0->lifelines) (24.2)\n",
            "Requirement already satisfied: pillow>=8 in /usr/local/lib/python3.11/dist-packages (from matplotlib>=3.0->lifelines) (11.1.0)\n",
            "Requirement already satisfied: pyparsing>=2.3.1 in /usr/local/lib/python3.11/dist-packages (from matplotlib>=3.0->lifelines) (3.2.1)\n",
            "Requirement already satisfied: python-dateutil>=2.7 in /usr/local/lib/python3.11/dist-packages (from matplotlib>=3.0->lifelines) (2.8.2)\n",
            "Requirement already satisfied: pytz>=2020.1 in /usr/local/lib/python3.11/dist-packages (from pandas>=2.1->lifelines) (2025.1)\n",
            "Requirement already satisfied: tzdata>=2022.7 in /usr/local/lib/python3.11/dist-packages (from pandas>=2.1->lifelines) (2025.1)\n",
            "Requirement already satisfied: six>=1.5 in /usr/local/lib/python3.11/dist-packages (from python-dateutil>=2.7->matplotlib>=3.0->lifelines) (1.17.0)\n"
          ]
        }
      ]
    },
    {
      "cell_type": "code",
      "source": [
        "from lifelines.utils import concordance_index\n",
        "from sklearn.metrics import mean_squared_error\n",
        "from scipy.stats import pearsonr\n",
        "from sklearn.metrics import precision_recall_curve, auc\n",
        "from sklearn.preprocessing import Binarizer\n",
        "from sklearn.metrics import r2_score\n",
        "from sklearn.linear_model import LinearRegression\n",
        "\n",
        "# Concordance index\n",
        "def evaluate_ci(test_targets, test_predictions):\n",
        "    # Calculate the concordance index\n",
        "    c_index = concordance_index(test_targets, test_predictions)\n",
        "    print(f'Concordance Index: {c_index}')\n",
        "\n",
        "# Mean square error\n",
        "def evaluate_mse(test_targets, test_predictions):\n",
        "    # Calculate the mean-square error\n",
        "    mse = mean_squared_error(test_targets, test_predictions)\n",
        "    print(f'Mean-Square Error: {mse}')\n",
        "\n",
        "# Pearson correlation coefficient\n",
        "def evaluate_pearsonr(test_targets, test_predictions):\n",
        "    # Calculate the Pearson correlation coefficient\n",
        "    pearson_corr, _ = pearsonr(test_targets, test_predictions)\n",
        "    print(f'Pearson Correlation Coefficient: {pearson_corr}')\n",
        "\n",
        "# Area under the precision-recall curve\n",
        "def evaluate_auprc(test_targets, test_predictions):\n",
        "    # Binarize the targets and predictions\n",
        "    binarizer = Binarizer(threshold=7.0)\n",
        "    test_targets_bin = binarizer.fit_transform(np.array(test_targets).reshape(-1, 1)).flatten()\n",
        "    test_predictions_bin = binarizer.transform(np.array(test_predictions).reshape(-1, 1)).flatten()\n",
        "\n",
        "    precision, recall, _ = precision_recall_curve(test_targets_bin, test_predictions_bin)\n",
        "    auprc = auc(recall, precision)\n",
        "    print(f'Area Under the Precision-Recall Curve: {auprc}')\n",
        "\n",
        "# r_m^2 index\n",
        "def evaluate_rm2(test_targets, test_predictions):\n",
        "    y_obs = np.array(test_targets)\n",
        "    y_pred = np.array(test_predictions)\n",
        "\n",
        "    # Calculate r^2\n",
        "    r2 = r2_score(y_obs, y_pred)\n",
        "\n",
        "    # Calculate r_0^2 (Linear regression without intercept)\n",
        "    model_no_intercept = LinearRegression(fit_intercept=False)\n",
        "    model_no_intercept.fit(y_obs.reshape(-1, 1), y_pred)\n",
        "    y_pred_no_intercept = model_no_intercept.predict(y_obs.reshape(-1, 1))\n",
        "    r2_0 = r2_score(y_obs, y_pred_no_intercept)\n",
        "\n",
        "    if (r2 - r2_0 < 0):\n",
        "        print(f'r^2: {r2}, r_0^2: {r2_0}')\n",
        "        print('r_m^2 index is not defined')\n",
        "        return\n",
        "\n",
        "    # Calculate r_m^2\n",
        "    rm2 = r2 * (1 - np.sqrt(r2 - r2_0))\n",
        "    print(f'rm2: {rm2}')"
      ],
      "metadata": {
        "id": "3HB6_HPAfZlE"
      },
      "execution_count": 73,
      "outputs": []
    },
    {
      "cell_type": "code",
      "source": [
        "# Predict on the test set\n",
        "y_pred = model.predict([X_smiles_test, X_protein_test])\n",
        "\n",
        "y_test = np.array(y_test, dtype=np.float64).flatten()\n",
        "y_test = np.nan_to_num(y_test, nan=np.nanmean(y_test))\n",
        "y_pred = np.array(y_pred, dtype=np.float64).flatten()\n",
        "y_pred = np.nan_to_num(y_pred, nan=np.nanmean(y_pred))\n",
        "\n",
        "# Evaluate the model\n",
        "evaluate_ci(y_test, y_pred)\n",
        "evaluate_mse(y_test, y_pred)\n",
        "evaluate_pearsonr(y_test, y_pred)\n",
        "evaluate_auprc(y_test, y_pred)\n",
        "evaluate_rm2(y_test, y_pred)\n"
      ],
      "metadata": {
        "colab": {
          "base_uri": "https://localhost:8080/"
        },
        "id": "NMuilDmdgB_a",
        "outputId": "6a793f1f-202a-48ef-ebf2-2892c815fc11"
      },
      "execution_count": 74,
      "outputs": [
        {
          "output_type": "stream",
          "name": "stdout",
          "text": [
            "\u001b[1m97/97\u001b[0m \u001b[32m━━━━━━━━━━━━━━━━━━━━\u001b[0m\u001b[37m\u001b[0m \u001b[1m3s\u001b[0m 27ms/step\n",
            "Concordance Index: 0.3247884570647624\n",
            "Mean-Square Error: 2.4899075827481987\n",
            "Pearson Correlation Coefficient: -0.16331547169434454\n",
            "Area Under the Precision-Recall Curve: 0.5505817711700065\n",
            "r^2: -1.5908692091681491, r_0^2: -0.6465549540362863\n",
            "r_m^2 index is not defined\n"
          ]
        }
      ]
    }
  ],
  "metadata": {
    "kernelspec": {
      "display_name": "Python 3",
      "name": "python3"
    },
    "language_info": {
      "codemirror_mode": {
        "name": "ipython",
        "version": 3
      },
      "file_extension": ".py",
      "mimetype": "text/x-python",
      "name": "python",
      "nbconvert_exporter": "python",
      "pygments_lexer": "ipython3",
      "version": "3.12.9"
    },
    "colab": {
      "provenance": [],
      "gpuType": "T4"
    },
    "accelerator": "GPU"
  },
  "nbformat": 4,
  "nbformat_minor": 0
}